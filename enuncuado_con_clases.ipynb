{
 "cells": [
  {
   "cell_type": "code",
   "execution_count": 2,
   "outputs": [],
   "source": [
    "from bicimad import *\n",
    "import matplotlib.pyplot as plt"
   ],
   "metadata": {
    "collapsed": false,
    "ExecuteTime": {
     "end_time": "2023-11-10T15:36:34.985757700Z",
     "start_time": "2023-11-10T15:36:34.362362800Z"
    }
   },
   "id": "86d44ed8cc0ac454"
  },
  {
   "cell_type": "markdown",
   "source": [
    "### C1\n",
    "\n",
    "¿Cuántas bicicletas han sido desbloqueadas de una estación y no se bloquean en ninguna?"
   ],
   "metadata": {
    "collapsed": false
   },
   "id": "5f32fa684405d666"
  },
  {
   "cell_type": "code",
   "execution_count": 6,
   "outputs": [
    {
     "name": "stdout",
     "output_type": "stream",
     "text": [
      "El número de bicicletas desbloqueadas en una estación y no bloqueadas en otra es: 168\n"
     ]
    }
   ],
   "source": [
    "bicic1 = BiciMad(2, 23)\n",
    "bicic1.clean()\n",
    "print(f\"El número de bicicletas desbloqueadas en una estación y no bloqueadas en otra es: {bicic1.num_station_non_blocked()}\")"
   ],
   "metadata": {
    "collapsed": false,
    "ExecuteTime": {
     "end_time": "2023-11-09T17:31:32.050029900Z",
     "start_time": "2023-11-09T17:31:27.552926200Z"
    }
   },
   "id": "68f48f7e3c1535"
  },
  {
   "cell_type": "markdown",
   "source": [
    "### C2\n",
    "\n",
    "Seleccionar solo las bicicletas del tipo de flota '1' . El nuevo dataframe se ha de llamar `regular_fleet`."
   ],
   "metadata": {
    "collapsed": false
   },
   "id": "87bbc92ce35f0770"
  },
  {
   "cell_type": "code",
   "execution_count": 7,
   "outputs": [
    {
     "name": "stdout",
     "output_type": "stream",
     "text": [
      "           idBike fleet  trip_minutes  \\\n",
      "fecha                                   \n",
      "2023-02-01   7337     1          5.52   \n",
      "2023-02-01   5098     1          0.32   \n",
      "2023-02-01   6519     1          0.27   \n",
      "2023-02-01   2551     1          8.58   \n",
      "2023-02-01   6519     1          0.20   \n",
      "\n",
      "                                           geolocation_unlock  \\\n",
      "fecha                                                           \n",
      "2023-02-01  {'type': 'Point', 'coordinates': [-3.6956178, ...   \n",
      "2023-02-01  {'type': 'Point', 'coordinates': [-3.7022591, ...   \n",
      "2023-02-01  {'type': 'Point', 'coordinates': [-3.6894193, ...   \n",
      "2023-02-01  {'type': 'Point', 'coordinates': [-3.7022591, ...   \n",
      "2023-02-01  {'type': 'Point', 'coordinates': [-3.6894193, ...   \n",
      "\n",
      "                            address_unlock         unlock_date locktype  \\\n",
      "fecha                                                                     \n",
      "2023-02-01              'Calle Jesús nº 1' 2023-02-01 00:00:10  STATION   \n",
      "2023-02-01  'Glorieta de Embajadores nº 2' 2023-02-01 00:00:25  STATION   \n",
      "2023-02-01     'Calle Antonio Maura nº 15' 2023-02-01 00:00:36  STATION   \n",
      "2023-02-01  'Glorieta de Embajadores nº 2' 2023-02-01 00:00:53  STATION   \n",
      "2023-02-01     'Calle Antonio Maura nº 15' 2023-02-01 00:00:57  STATION   \n",
      "\n",
      "           unlocktype                                   geolocation_lock  \\\n",
      "fecha                                                                      \n",
      "2023-02-01    STATION  {'type': 'Point', 'coordinates': [-3.7088337, ...   \n",
      "2023-02-01    STATION  {'type': 'Point', 'coordinates': [-3.7022591, ...   \n",
      "2023-02-01    STATION  {'type': 'Point', 'coordinates': [-3.6894193, ...   \n",
      "2023-02-01    STATION  {'type': 'Point', 'coordinates': [-3.6991147, ...   \n",
      "2023-02-01    STATION  {'type': 'Point', 'coordinates': [-3.6894193, ...   \n",
      "\n",
      "                              address_lock           lock_date station_unlock  \\\n",
      "fecha                                                                           \n",
      "2023-02-01     'Plaza de la Cebada nº 16 ' 2023-02-01 00:05:41             31   \n",
      "2023-02-01  'Glorieta de Embajadores nº 2' 2023-02-01 00:00:44             52   \n",
      "2023-02-01     'Calle Antonio Maura nº 15' 2023-02-01 00:00:52             69   \n",
      "2023-02-01            'Calle Atocha nº 54' 2023-02-01 00:09:28             52   \n",
      "2023-02-01     'Calle Antonio Maura nº 15' 2023-02-01 00:01:09             69   \n",
      "\n",
      "           unlock_station_name station_lock        lock_station_name  \n",
      "fecha                                                                 \n",
      "2023-02-01        27 - Huertas           43  39 - Plaza de la Cebada  \n",
      "2023-02-01  48 - Embajadores 2           52       48 - Embajadores 2  \n",
      "2023-02-01  65 - Antonio Maura           69       65 - Antonio Maura  \n",
      "2023-02-01  48 - Embajadores 2           45        41 - Antón Martín  \n",
      "2023-02-01  65 - Antonio Maura           69       65 - Antonio Maura  \n"
     ]
    }
   ],
   "source": [
    "bicic2 = BiciMad(2, 23)\n",
    "bicic2.clean()\n",
    "\n",
    "print(bicic2.df_fleet_1().head())"
   ],
   "metadata": {
    "collapsed": false,
    "ExecuteTime": {
     "end_time": "2023-11-09T17:32:33.217761700Z",
     "start_time": "2023-11-09T17:32:27.602745200Z"
    }
   },
   "id": "77cb63c4516e3bc0"
  },
  {
   "cell_type": "markdown",
   "source": [
    "### C3\n",
    "\n",
    "Crea una función llamada `day_time` para calcular las horas totales de uso de bicicletas por día del mes.\n",
    "La función recibe un dataframe y devuelve una Serie donde el índice es la fecha y el valor es el número de horas.\n",
    "\n",
    "Prueba la función anterior con el dataframe  `usos`.\n",
    "\n",
    "__Opcional:__ Dibuja un diagrama de barras con el resultado de la función `day_time` sobre el dataframe `usos`. Utiliza el módulo `matplotlib.pyplot`."
   ],
   "metadata": {
    "collapsed": false
   },
   "id": "d2471af5124760e4"
  },
  {
   "cell_type": "code",
   "execution_count": 10,
   "outputs": [
    {
     "name": "stdout",
     "output_type": "stream",
     "text": [
      "fecha\n",
      "2023-02-01    4160.54\n",
      "2023-02-02    3435.12\n",
      "2023-02-03    3456.31\n",
      "2023-02-04    3640.82\n",
      "2023-02-05    3263.94\n",
      "2023-02-06    3372.99\n",
      "2023-02-07    2874.89\n",
      "2023-02-08    3446.48\n",
      "2023-02-09    3514.82\n",
      "2023-02-10    3596.70\n",
      "2023-02-11    2977.28\n",
      "2023-02-12    3003.62\n",
      "2023-02-13    3121.50\n",
      "2023-02-14    2751.55\n",
      "2023-02-15    2742.64\n",
      "2023-02-16    2462.71\n",
      "2023-02-17    1905.26\n",
      "2023-02-18     162.93\n",
      "Name: trip_hours, dtype: float64\n"
     ]
    }
   ],
   "source": [
    "bicic3 = BiciMad(2, 23)\n",
    "bicic3.clean()\n",
    "\n",
    "print(bicic3.day_time())"
   ],
   "metadata": {
    "collapsed": false,
    "ExecuteTime": {
     "end_time": "2023-11-09T17:34:48.507469200Z",
     "start_time": "2023-11-09T17:34:43.371569900Z"
    }
   },
   "id": "142d7cfd4bd53357"
  },
  {
   "cell_type": "code",
   "execution_count": 14,
   "outputs": [
    {
     "data": {
      "text/plain": "<Figure size 640x480 with 1 Axes>",
      "image/png": "[encoded data removed]"
     },
     "metadata": {},
     "output_type": "display_data"
    }
   ],
   "source": [
    "# Bar plot\n",
    "\n",
    "bicic3.day_time().plot(kind='bar', rot=90)\n",
    "plt.ylabel(\"Hours\")\n",
    "plt.xlabel(\"day\")\n",
    "plt.show()"
   ],
   "metadata": {
    "collapsed": false,
    "ExecuteTime": {
     "end_time": "2023-11-09T17:36:52.719146700Z",
     "start_time": "2023-11-09T17:36:52.624491200Z"
    }
   },
   "id": "a61f6820a032ecab"
  },
  {
   "cell_type": "markdown",
   "source": [
    "### C4\n",
    "\n",
    "Crea una función llamada `weekday_time` para calcular las horas totales de uso de bicicletas por día de la semana. La función recibe un dataframe y devuelve una Serie donde el índice es el día de la semana (L, M, X, J, V, S, D) y el valor es el número de horas.\n",
    "\n",
    "Prueba la función anterior con el dataframe usos."
   ],
   "metadata": {
    "collapsed": false
   },
   "id": "2c417b4c61c806ca"
  },
  {
   "cell_type": "code",
   "execution_count": 3,
   "outputs": [
    {
     "data": {
      "text/plain": "weekday_letter\nM     5626.44\nD     6267.56\nL     6494.49\nS     6781.03\nV     8958.27\nJ     9412.65\nX    10349.66\nName: trip_minutes, dtype: float64"
     },
     "execution_count": 3,
     "metadata": {},
     "output_type": "execute_result"
    }
   ],
   "source": [
    "bicic4 = BiciMad(2, 23)\n",
    "bicic4.clean()\n",
    "\n",
    "bicic4.weekday_time()"
   ],
   "metadata": {
    "collapsed": false,
    "ExecuteTime": {
     "end_time": "2023-11-09T17:41:49.134563900Z",
     "start_time": "2023-11-09T17:41:45.091088700Z"
    }
   },
   "id": "f62e644a3958d4df"
  },
  {
   "cell_type": "markdown",
   "source": [
    "### C5\n",
    "\n",
    "Crea una función llamada `total_usage_day` para calcular el número total de usos de bicicletas por día del mes. La función recibe un dataframe y devuelve una Serie donde el índice es la fecha y el valor es el número de usos.\n",
    "\n",
    "Prueba la función anterior con el dataframe usos."
   ],
   "metadata": {
    "collapsed": false
   },
   "id": "a6ee94b1a6fd2efc"
  },
  {
   "cell_type": "code",
   "execution_count": 4,
   "outputs": [
    {
     "data": {
      "text/plain": "fecha\n2023-02-01    11442\n2023-02-02    11069\n2023-02-03    10166\n2023-02-04     8903\n2023-02-05     8026\n2023-02-06    10118\n2023-02-07     8986\n2023-02-08    10576\n2023-02-09    10814\n2023-02-10    10579\n2023-02-11     8383\n2023-02-12     7801\n2023-02-13     9802\n2023-02-14    10341\n2023-02-15    10766\n2023-02-16     9684\n2023-02-17    10067\n2023-02-18      971\nName: use_number, dtype: int64"
     },
     "execution_count": 4,
     "metadata": {},
     "output_type": "execute_result"
    }
   ],
   "source": [
    "bicic5 = BiciMad(2, 23)\n",
    "bicic5.clean()\n",
    "\n",
    "bicic5.total_usage_day()"
   ],
   "metadata": {
    "collapsed": false,
    "ExecuteTime": {
     "end_time": "2023-11-09T17:42:30.818372800Z",
     "start_time": "2023-11-09T17:42:25.649796700Z"
    }
   },
   "id": "e2b09096d2192725"
  },
  {
   "cell_type": "markdown",
   "source": [
    "### C6\n",
    "\n",
    "Calcular el total de usos por fecha y estación de desbloqueo. Como la fecha está en el índice y la estación de desbloqueo es una columna, lo mejor es agrupar por la columna `station_unlock` y  un objeto `Grouper` de frecuencia diaria (1D).\n",
    "\n",
    "A continuación, se muestra un ejemplo del funcionamiento de la función Grouper de pandas:\n",
    "```\n",
    ">>> df\n",
    "             ID  Price\n",
    "2000-01-02   0     10\n",
    "2000-01-02   1     20\n",
    "2000-01-09   2     30\n",
    "2000-01-16   3     40\n",
    "\n",
    "# Grouper con frecuencia semanal (1W)\n",
    ">>> df.groupby(pd.Grouper(freq=\"1W\")).mean()\n",
    "               ID  Price\n",
    "\n",
    "2000-01-02    0.5   15.0\n",
    "2000-01-09    2.0   30.0\n",
    "2000-01-16    3.0   40.0\n",
    "```"
   ],
   "metadata": {
    "collapsed": false
   },
   "id": "8640efdada9cb240"
  },
  {
   "cell_type": "code",
   "execution_count": 3,
   "outputs": [
    {
     "data": {
      "text/plain": "fecha       station_unlock\n2023-02-01  1                 95\n            101               23\n            102               57\n            103               48\n            104               45\n                              ..\n2023-02-18  94                 6\n            95                 3\n            96                 1\n            97                 2\n            99                 1\nName: use_by_day_station, Length: 4170, dtype: int64"
     },
     "execution_count": 3,
     "metadata": {},
     "output_type": "execute_result"
    }
   ],
   "source": [
    "bicic6 = BiciMad(2, 23)\n",
    "bicic6.clean()\n",
    "\n",
    "bicic6.station_unlock()"
   ],
   "metadata": {
    "collapsed": false,
    "ExecuteTime": {
     "end_time": "2023-11-10T15:36:45.090808600Z",
     "start_time": "2023-11-10T15:36:40.940067Z"
    }
   },
   "id": "bc9871720349b8c1"
  },
  {
   "cell_type": "markdown",
   "source": [
    "### C7\n",
    "\n",
    "Se quiere averiguar la dirección de las estaciones de desbloqueo que a lo largo del mes han tenido un mayor número de viajes. Crear una función llamada `most_popular_stations` que calcule dicho dato. El argumento de la función es un dataframe y devuelve un conjunto con la dirección de las estaciones."
   ],
   "metadata": {
    "collapsed": false
   },
   "id": "2b5b3e36cdf82894"
  },
  {
   "cell_type": "code",
   "execution_count": 14,
   "outputs": [
    {
     "data": {
      "text/plain": "{'39 - Plaza de la Cebada'}"
     },
     "execution_count": 14,
     "metadata": {},
     "output_type": "execute_result"
    }
   ],
   "source": [
    "bicic7 = BiciMad(2, 23)\n",
    "bicic7.clean()\n",
    "\n",
    "bicic7.resume()['most_popular_station']"
   ],
   "metadata": {
    "collapsed": false,
    "ExecuteTime": {
     "end_time": "2023-11-09T17:51:33.426194100Z",
     "start_time": "2023-11-09T17:51:29.515656400Z"
    }
   },
   "id": "4aff94032cfb9a36"
  },
  {
   "cell_type": "markdown",
   "source": [
    "### C8\n",
    "\n",
    "Se quiere averiguar el  número de usos de las estaciones de desbloqueo que a lo largo del mes ha tenido un mayor número de viajes. Crear una función llamada `usage_from_most_popular_station` que calcule dicho dato. El argumento de la función es un dataframe y devuelve un entero."
   ],
   "metadata": {
    "collapsed": false
   },
   "id": "6d78f5af0fe9964e"
  },
  {
   "cell_type": "code",
   "execution_count": 15,
   "outputs": [
    {
     "data": {
      "text/plain": "2189"
     },
     "execution_count": 15,
     "metadata": {},
     "output_type": "execute_result"
    }
   ],
   "source": [
    "bicic8 = BiciMad(2, 23)\n",
    "bicic8.clean()\n",
    "\n",
    "bicic8.resume()['uses_from_most_popular']"
   ],
   "metadata": {
    "collapsed": false,
    "ExecuteTime": {
     "end_time": "2023-11-09T17:52:00.536922800Z",
     "start_time": "2023-11-09T17:51:56.634002400Z"
    }
   },
   "id": "cbb9983e8af5449b"
  }
 ],
 "metadata": {
  "kernelspec": {
   "display_name": "Python 3",
   "language": "python",
   "name": "python3"
  },
  "language_info": {
   "codemirror_mode": {
    "name": "ipython",
    "version": 2
   },
   "file_extension": ".py",
   "mimetype": "text/x-python",
   "name": "python",
   "nbconvert_exporter": "python",
   "pygments_lexer": "ipython2",
   "version": "2.7.6"
  }
 },
 "nbformat": 4,
 "nbformat_minor": 5
}
